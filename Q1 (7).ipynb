{
 "cells": [
  {
   "cell_type": "markdown",
   "id": "a24ff465-cd41-4782-8b08-e9d15dbe2a2c",
   "metadata": {},
   "source": [
    "## To handle any type of Exception"
   ]
  },
  {
   "cell_type": "code",
   "execution_count": null,
   "id": "7c683f5e-b120-4112-bd44-103d1aa687c7",
   "metadata": {},
   "outputs": [],
   "source": []
  }
 ],
 "metadata": {
  "kernelspec": {
   "display_name": "Python 3 (ipykernel)",
   "language": "python",
   "name": "python3"
  },
  "language_info": {
   "codemirror_mode": {
    "name": "ipython",
    "version": 3
   },
   "file_extension": ".py",
   "mimetype": "text/x-python",
   "name": "python",
   "nbconvert_exporter": "python",
   "pygments_lexer": "ipython3",
   "version": "3.10.8"
  }
 },
 "nbformat": 4,
 "nbformat_minor": 5
}
