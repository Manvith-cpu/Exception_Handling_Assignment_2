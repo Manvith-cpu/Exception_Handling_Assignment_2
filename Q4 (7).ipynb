{
 "cells": [
  {
   "cell_type": "markdown",
   "id": "57bebc19-719a-48cc-a593-34eef7ac2dfc",
   "metadata": {},
   "source": [
    "# LookupError Exception is the Base class for errors raised when something can't be found. The base class for the exceptions that are raised when a key or index used on a mapping or sequence is invalid: IndexError, KeyError."
   ]
  },
  {
   "cell_type": "code",
   "execution_count": 2,
   "id": "dc6fa82d-f781-43b7-be75-5b365839ad8c",
   "metadata": {},
   "outputs": [
    {
     "name": "stdout",
     "output_type": "stream",
     "text": [
      "10\n",
      "Key Not Found in Employee Dictionary: 'Role'\n"
     ]
    }
   ],
   "source": [
    "# Key Error\n",
    "emp_dict = {'Name': 'Pankaj', 'ID': 10}\n",
    "\n",
    "try:\n",
    "    emp_id = emp_dict['ID']\n",
    "    print(emp_id)\n",
    "\n",
    "    emp_role = emp_dict['Role']\n",
    "    print(emp_role)\n",
    "except KeyError as ke:\n",
    "    print('Key Not Found in Employee Dictionary:', ke)"
   ]
  },
  {
   "cell_type": "code",
   "execution_count": 3,
   "id": "3e524bb4-6ad2-4a3e-9c46-98b32ba32a4f",
   "metadata": {},
   "outputs": [
    {
     "name": "stdin",
     "output_type": "stream",
     "text": [
      "Please enter a positive number:\n",
      " -10\n"
     ]
    },
    {
     "name": "stdout",
     "output_type": "stream",
     "text": [
      "You entered -10, which is not a positive number.\n"
     ]
    }
   ],
   "source": [
    "# ValueError\n",
    "import math\n",
    "\n",
    "x = int(input('Please enter a positive number:\\n'))\n",
    "\n",
    "try:\n",
    "    print(f'Square Root of {x} is {math.sqrt(x)}')\n",
    "except ValueError as ve:\n",
    "    print(f'You entered {x}, which is not a positive number.')"
   ]
  }
 ],
 "metadata": {
  "kernelspec": {
   "display_name": "Python 3 (ipykernel)",
   "language": "python",
   "name": "python3"
  },
  "language_info": {
   "codemirror_mode": {
    "name": "ipython",
    "version": 3
   },
   "file_extension": ".py",
   "mimetype": "text/x-python",
   "name": "python",
   "nbconvert_exporter": "python",
   "pygments_lexer": "ipython3",
   "version": "3.10.8"
  }
 },
 "nbformat": 4,
 "nbformat_minor": 5
}
