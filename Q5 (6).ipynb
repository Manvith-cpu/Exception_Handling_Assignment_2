{
 "cells": [
  {
   "cell_type": "markdown",
   "id": "978ac28f-6082-4582-9e39-398b96d186fb",
   "metadata": {},
   "source": [
    "In Python, ImportError occurs when the Python program tries to import module which does not exist in the private table. This exception can be avoided using exception handling using try and except blocks. "
   ]
  },
  {
   "cell_type": "markdown",
   "id": "fe3980a4-dbce-48f4-9b2b-ca0490ad1a5f",
   "metadata": {},
   "source": [
    "ModuleNotFoundError occurs when you're trying to access or use a module that cannot be found"
   ]
  }
 ],
 "metadata": {
  "kernelspec": {
   "display_name": "Python 3 (ipykernel)",
   "language": "python",
   "name": "python3"
  },
  "language_info": {
   "codemirror_mode": {
    "name": "ipython",
    "version": 3
   },
   "file_extension": ".py",
   "mimetype": "text/x-python",
   "name": "python",
   "nbconvert_exporter": "python",
   "pygments_lexer": "ipython3",
   "version": "3.10.8"
  }
 },
 "nbformat": 4,
 "nbformat_minor": 5
}
