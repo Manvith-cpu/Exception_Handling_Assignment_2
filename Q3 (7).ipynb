{
 "cells": [
  {
   "cell_type": "markdown",
   "id": "0af4e381-8242-48a2-b035-b38f1f22198f",
   "metadata": {},
   "source": [
    "## ZeroDivisionError,OverflowError and FloatingpointError are the errors defined in ArithmeticError class"
   ]
  },
  {
   "cell_type": "code",
   "execution_count": 1,
   "id": "6f667aca-0cd9-4684-9145-096f4706ac71",
   "metadata": {},
   "outputs": [
    {
     "name": "stdout",
     "output_type": "stream",
     "text": [
      "division by zero\n"
     ]
    }
   ],
   "source": [
    "try:\n",
    "    10/0\n",
    "except ZeroDivisionError as e:\n",
    "    print(e)"
   ]
  },
  {
   "cell_type": "code",
   "execution_count": 2,
   "id": "1ec6cce1-8bd9-43e5-83d8-ce7b202dd66a",
   "metadata": {},
   "outputs": [
    {
     "name": "stdout",
     "output_type": "stream",
     "text": [
      "The exponential value is\n",
      "After overflow math range error\n"
     ]
    }
   ],
   "source": [
    "import math\n",
    "\n",
    "try:\n",
    "    print(\"The exponential value is\")\n",
    "    print(math.exp(1000))\n",
    "    \n",
    "except OverflowError as e:\n",
    "    print(\"After overflow\", e)"
   ]
  }
 ],
 "metadata": {
  "kernelspec": {
   "display_name": "Python 3 (ipykernel)",
   "language": "python",
   "name": "python3"
  },
  "language_info": {
   "codemirror_mode": {
    "name": "ipython",
    "version": 3
   },
   "file_extension": ".py",
   "mimetype": "text/x-python",
   "name": "python",
   "nbconvert_exporter": "python",
   "pygments_lexer": "ipython3",
   "version": "3.10.8"
  }
 },
 "nbformat": 4,
 "nbformat_minor": 5
}
