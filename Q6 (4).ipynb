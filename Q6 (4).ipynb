{
 "cells": [
  {
   "cell_type": "markdown",
   "id": "eb40cb64-e9b6-46dd-94d1-e7ad2b87f820",
   "metadata": {},
   "source": [
    "1. use always a specific exception rather than main exception class\n",
    "2. print always a proper message\n",
    "3. always try to log your error\n",
    "4. always avoid to write a multiple exception handling\n",
    "5. Document all the error\n",
    "6. cleanup all the resources"
   ]
  }
 ],
 "metadata": {
  "kernelspec": {
   "display_name": "Python 3 (ipykernel)",
   "language": "python",
   "name": "python3"
  },
  "language_info": {
   "codemirror_mode": {
    "name": "ipython",
    "version": 3
   },
   "file_extension": ".py",
   "mimetype": "text/x-python",
   "name": "python",
   "nbconvert_exporter": "python",
   "pygments_lexer": "ipython3",
   "version": "3.10.8"
  }
 },
 "nbformat": 4,
 "nbformat_minor": 5
}
